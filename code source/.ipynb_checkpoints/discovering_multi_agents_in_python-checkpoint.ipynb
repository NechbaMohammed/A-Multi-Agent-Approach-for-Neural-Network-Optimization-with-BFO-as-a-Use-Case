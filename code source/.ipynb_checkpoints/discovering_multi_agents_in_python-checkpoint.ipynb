{
 "cells": [
  {
   "cell_type": "code",
   "execution_count": 19,
   "id": "53fb539c",
   "metadata": {},
   "outputs": [],
   "source": [
    "import mesa\n",
    "\n",
    "\n",
    "class MyAgent(mesa.Agent):\n",
    "    \"\"\"An agent with fixed initial wealth.\"\"\"\n",
    "\n",
    "    def __init__(self, unique_id, model):\n",
    "        super().__init__(unique_id, model)\n",
    "        self.wealth = 1\n",
    "\n",
    "    def step(self):\n",
    "        # The agent's step will go here.\n",
    "        # For demonstration purposes we will print the agent's unique_id\n",
    "        print(\"Hi, I am agent \" + str(self.unique_id) + \".\")\n",
    "\n",
    "\n",
    "class MyModel(mesa.Model):\n",
    "    \"\"\"A model with some number of agents.\"\"\"\n",
    "\n",
    "    def __init__(self, N):\n",
    "        self.num_agents = N\n",
    "        self.schedule = mesa.time.RandomActivation(self)\n",
    "        # Create agents\n",
    "        for i in range(self.num_agents):\n",
    "            a = MyAgent(i, self)\n",
    "            self.schedule.add(a)\n",
    "\n",
    "    def step(self):\n",
    "        \"\"\"Advance the model by one step.\"\"\"\n",
    "        self.schedule.step()"
   ]
  },
  {
   "cell_type": "code",
   "execution_count": 12,
   "id": "5e841d8e",
   "metadata": {
    "scrolled": true
   },
   "outputs": [
    {
     "name": "stdout",
     "output_type": "stream",
     "text": [
      "Hi, I am agent 4.\n",
      "Hi, I am agent 6.\n",
      "Hi, I am agent 7.\n",
      "Hi, I am agent 3.\n",
      "Hi, I am agent 5.\n",
      "Hi, I am agent 2.\n",
      "Hi, I am agent 1.\n",
      "Hi, I am agent 0.\n",
      "Hi, I am agent 5.\n",
      "Hi, I am agent 4.\n",
      "Hi, I am agent 7.\n",
      "Hi, I am agent 2.\n",
      "Hi, I am agent 1.\n",
      "Hi, I am agent 6.\n",
      "Hi, I am agent 0.\n",
      "Hi, I am agent 3.\n"
     ]
    }
   ],
   "source": [
    "test_model=MyModel(8)\n",
    "for i in range (2):\n",
    "  test_model.step()"
   ]
  },
  {
   "cell_type": "markdown",
   "id": "0a06ffa7",
   "metadata": {},
   "source": [
    "### 2- Another example : Money agents"
   ]
  },
  {
   "cell_type": "code",
   "execution_count": 28,
   "id": "2931011c",
   "metadata": {},
   "outputs": [],
   "source": [
    "class MoneyAgent(mesa.Agent):\n",
    "    \"\"\"An agent with fixed initial wealth.\"\"\"\n",
    "\n",
    "    def __init__(self, unique_id, model):\n",
    "        super().__init__(unique_id, model)\n",
    "        self.wealth = 1\n",
    "\n",
    "    def step(self):\n",
    "        if self.wealth == 0:\n",
    "            return\n",
    "        other_agent = self.random.choice(self.model.schedule.agents)\n",
    "        other_agent.wealth += 1\n",
    "        self.wealth -= 1\n",
    "        #print (\" i'm agent id= \",self.unique_id ,' my wealth is= ',self.wealth)\n",
    "        \n",
    "class moneyModel(mesa.Model):\n",
    "    \"\"\"A model with some number of agents.\"\"\"\n",
    "\n",
    "    def __init__(self, N):\n",
    "        self.num_agents = N\n",
    "        self.schedule = mesa.time.RandomActivation(self)\n",
    "        # Create agents\n",
    "        for i in range(self.num_agents):\n",
    "            a = MoneyAgent(i, self)\n",
    "            self.schedule.add(a)\n",
    "\n",
    "    def step(self):\n",
    "        \"\"\"Advance the model by one step.\"\"\"\n",
    "        self.schedule.step()        "
   ]
  },
  {
   "cell_type": "code",
   "execution_count": 37,
   "id": "3b856c10",
   "metadata": {},
   "outputs": [
    {
     "data": {
      "text/plain": [
       "[0, 1, 2, 3, 4, 5, 6, 7, 8, 9]"
      ]
     },
     "execution_count": 37,
     "metadata": {},
     "output_type": "execute_result"
    }
   ],
   "source": [
    "Money_model = moneyModel(10) # 10 agents\n",
    "\n",
    "for i in range(8):\n",
    "    Money_model.step()\n",
    "\n",
    "#how to access to agents\n",
    "agent_wealth = [a.wealth for a in Money_model.schedule.agents]\n",
    "agent_wealth"
   ]
  },
  {
   "cell_type": "markdown",
   "id": "0126d5cf",
   "metadata": {},
   "source": [
    "## Very important:\n",
    "\n",
    "How to acces to agents, in fact you can use **model.schedule.agents** to get the agents and then you can acces to all its methods and attributes by using **a.method_1** or **agent.attribute_2** , see the following examples for more details: \n",
    "\n",
    "**Note:** the results are given following the agents ids "
   ]
  },
  {
   "cell_type": "code",
   "execution_count": 38,
   "id": "2c05fa46",
   "metadata": {
    "scrolled": true
   },
   "outputs": [
    {
     "data": {
      "text/plain": [
       "[0, 1, 2, 3, 4, 5, 6, 7, 8, 9]"
      ]
     },
     "execution_count": 38,
     "metadata": {},
     "output_type": "execute_result"
    }
   ],
   "source": [
    "#how to access to agents ids\n",
    "agent_ids = [a.unique_id for a in Money_model.schedule.agents]\n",
    "agent_ids"
   ]
  },
  {
   "cell_type": "code",
   "execution_count": 39,
   "id": "923f672c",
   "metadata": {},
   "outputs": [
    {
     "data": {
      "text/plain": [
       "[2, 0, 3, 0, 0, 4, 0, 0, 1, 0]"
      ]
     },
     "execution_count": 39,
     "metadata": {},
     "output_type": "execute_result"
    }
   ],
   "source": [
    "#how to access to agents wealth attribute\n",
    "agent_wealth = [a.wealth for a in Money_model.schedule.agents]\n",
    "agent_wealth"
   ]
  },
  {
   "cell_type": "markdown",
   "id": "14d506cf",
   "metadata": {},
   "source": [
    "this means that the wealth of agent whose id is **id=0** is **2**. Likewise,  the wealth of agent whose id is **id=1** is **0**. And so on and so forth! "
   ]
  },
  {
   "cell_type": "markdown",
   "id": "1a212fd1",
   "metadata": {},
   "source": [
    "### Remarque:\n",
    "\n",
    "how to retrive both the index and the value of the min of a list"
   ]
  },
  {
   "cell_type": "code",
   "execution_count": 34,
   "id": "7f0d17b3",
   "metadata": {},
   "outputs": [
    {
     "name": "stdout",
     "output_type": "stream",
     "text": [
      "Minimum value: 2\n",
      "Index of minimum value: 4\n"
     ]
    }
   ],
   "source": [
    "my_list = [10, 5, 3, 8, 2]\n",
    "min_value, min_index = min((val, idx) for idx, val in enumerate(my_list))\n",
    "print(\"Minimum value:\", min_value)\n",
    "print(\"Index of minimum value:\", min_index)"
   ]
  },
  {
   "cell_type": "markdown",
   "id": "92eb99a6",
   "metadata": {},
   "source": [
    "### define a  function outside a clas and call it as an attribute"
   ]
  },
  {
   "cell_type": "code",
   "execution_count": 36,
   "id": "96cb55ff",
   "metadata": {},
   "outputs": [
    {
     "data": {
      "text/plain": [
       "5"
      ]
     },
     "execution_count": 36,
     "metadata": {},
     "output_type": "execute_result"
    }
   ],
   "source": [
    "def test_fct (x,y):\n",
    "    return x+y\n",
    "\n",
    "class test():\n",
    "    def __init__(self,x,y,fct):\n",
    "        self.x=x\n",
    "        self.y=y\n",
    "        self.fct=fct\n",
    "        \n",
    "    def apply_fct(self):    \n",
    "        return self.fct(self.x,self.y)\n",
    "    \n",
    "test_class = test(2,3,test_fct)\n",
    "test_class.apply_fct()"
   ]
  }
 ],
 "metadata": {
  "kernelspec": {
   "display_name": "Python 3 (ipykernel)",
   "language": "python",
   "name": "python3"
  },
  "language_info": {
   "codemirror_mode": {
    "name": "ipython",
    "version": 3
   },
   "file_extension": ".py",
   "mimetype": "text/x-python",
   "name": "python",
   "nbconvert_exporter": "python",
   "pygments_lexer": "ipython3",
   "version": "3.9.13"
  }
 },
 "nbformat": 4,
 "nbformat_minor": 5
}
